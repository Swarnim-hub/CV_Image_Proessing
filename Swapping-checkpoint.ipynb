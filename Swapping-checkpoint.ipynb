{
 "cells": [
  {
   "cell_type": "code",
   "execution_count": 1,
   "metadata": {},
   "outputs": [],
   "source": [
    "import cv2\n",
    "import numpy"
   ]
  },
  {
   "cell_type": "code",
   "execution_count": 10,
   "metadata": {},
   "outputs": [],
   "source": [
    "virat=cv2.imread(\"viratk.jpg\")\n",
    "mahi=cv2.imread(\"mahi1.jpg\")\n",
    "\n",
    "cv2.imshow(\"Virat\",virat)\n",
    "cv2.imshow(\"Mahi\",mahi)\n",
    "cv2.waitKey()\n",
    "cv2.destroyAllWindows()"
   ]
  },
  {
   "cell_type": "code",
   "execution_count": 35,
   "metadata": {},
   "outputs": [],
   "source": [
    "vx1,vx2,vy1,vy2 = 10,460,60,300\n",
    "mx1,mx2,my1,my2 = 10,460,80,320\n",
    "virat_face= virat[vy1:vy2,vx1:vx2]\n",
    "mahi_face= mahi[my1:my2,mx1:mx2]\n",
    "cv2.imshow(\"Virat\", virat_face)\n",
    "# Display face\n",
    "cv2.imshow(\"Mahi\", mahi_face)\n",
    "cv2.waitKey()\n",
    "cv2.destroyAllWindows()"
   ]
  },
  {
   "cell_type": "code",
   "execution_count": 16,
   "metadata": {},
   "outputs": [
    {
     "data": {
      "text/plain": [
       "(698, 693, 3)"
      ]
     },
     "execution_count": 16,
     "metadata": {},
     "output_type": "execute_result"
    }
   ],
   "source": [
    "mahi.shape"
   ]
  },
  {
   "cell_type": "code",
   "execution_count": 36,
   "metadata": {},
   "outputs": [],
   "source": [
    "virat=cv2.imread(\"viratk.jpg\")\n",
    "mahi[my1:my2,mx1:mx2]= virat_face\n",
    "\n",
    "mahi=cv2.imread(\"mahi1.jpg\")\n",
    "virat[vy1:vy2,vx1:vx2]=mahi_face\n",
    "cv2.imshow(\"Virat\",virat)\n",
    "cv2.imshow(\"Mahi\",mahi)\n",
    "cv2.waitKey()\n",
    "cv2.destroyAllWindows()"
   ]
  },
  {
   "cell_type": "code",
   "execution_count": null,
   "metadata": {},
   "outputs": [],
   "source": [
    "bhai dono same hi h dekho"
   ]
  },
  {
   "cell_type": "code",
   "execution_count": 40,
   "metadata": {},
   "outputs": [],
   "source": [
    "virat=cv2.imread(\"viratk.jpg\")\n",
    "virat[vy1:vy2,vx1:vx2]= mahi_face\n",
    "mahi=cv2.imread(\"mahi1.jpg\")\n",
    "mahi[my1:my2,mx1:mx2]= virat_face\n",
    "cv2.imshow(\"Virat\",virat)\n",
    "cv2.imshow(\"Mahi\",mahi)\n",
    "cv2.waitKey()\n",
    "cv2.destroyAllWindows()"
   ]
  },
  {
   "cell_type": "code",
   "execution_count": null,
   "metadata": {},
   "outputs": [],
   "source": []
  }
 ],
 "metadata": {
  "kernelspec": {
   "display_name": "Python 3",
   "language": "python",
   "name": "python3"
  },
  "language_info": {
   "codemirror_mode": {
    "name": "ipython",
    "version": 3
   },
   "file_extension": ".py",
   "mimetype": "text/x-python",
   "name": "python",
   "nbconvert_exporter": "python",
   "pygments_lexer": "ipython3",
   "version": "3.8.3"
  }
 },
 "nbformat": 4,
 "nbformat_minor": 4
}
